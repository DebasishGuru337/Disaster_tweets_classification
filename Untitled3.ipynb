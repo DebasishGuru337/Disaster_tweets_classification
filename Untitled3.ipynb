{
 "cells": [
  {
   "cell_type": "markdown",
   "id": "2bbb8103-7252-44f1-b735-f76ba221ae43",
   "metadata": {},
   "source": [
    "## Load the Dataset(Disaster Tweets)"
   ]
  },
  {
   "cell_type": "markdown",
   "id": "326e3391-601a-4c38-8a65-e58f81aec302",
   "metadata": {},
   "source": [
    "They contain:"
   ]
  },
  {
   "cell_type": "markdown",
   "id": "223f3dc8-16b4-43fa-9a69-da8624eeafef",
   "metadata": {},
   "source": [
    "id"
   ]
  },
  {
   "cell_type": "markdown",
   "id": "7551a4c1-a9f2-4a6c-baf6-8c9c52297293",
   "metadata": {},
   "source": [
    "keyword: A keyword from that tweet (although this may be blank!)"
   ]
  },
  {
   "cell_type": "markdown",
   "id": "d902e8a9-17ed-4a6d-8715-c2e3b05cd5d4",
   "metadata": {},
   "source": [
    "location: The location the tweet was sent from (may also be blank)"
   ]
  },
  {
   "cell_type": "markdown",
   "id": "393b57c6-f580-4166-9307-5cbd600cfcbd",
   "metadata": {},
   "source": [
    "text: The text of a tweet"
   ]
  },
  {
   "cell_type": "markdown",
   "id": "41f9429f-47b8-4796-952a-58513cf84c97",
   "metadata": {},
   "source": [
    "target: 1 if the tweet is a real disaster or 0 if not"
   ]
  },
  {
   "cell_type": "markdown",
   "id": "6cd187c5-7fe4-453d-a4b8-5b5a9ccacafa",
   "metadata": {},
   "source": [
    "target: if the tweet 1 is a real disaster and 0 is a not a real disaster"
   ]
  },
  {
   "cell_type": "code",
   "execution_count": null,
   "id": "60b53425-c7f3-4971-b294-e22f75cb328d",
   "metadata": {},
   "outputs": [],
   "source": [
    "import pandas as pd\n",
    "import numpy as np\n",
    "import seaborn as sns\n",
    "import matplotlib.pyplot as plt\n",
    "from sklearn.feature_extraction.text import CountVectorizer\n",
    "import re\n",
    "from sklearn.model_selection import train_test_split\n",
    "from sklearn.preprocessing import LabelEncoder\n",
    "from nltk.tokenize import word_tokenize\n",
    "from nltk.corpus import stopwords\n",
    "from nltk.stem import WordNetLemmatizer\n",
    "import nltk"
   ]
  },
  {
   "cell_type": "markdown",
   "id": "89804c69-dd00-4c84-8bbc-51e6d76b6b64",
   "metadata": {},
   "source": [
    "## Data Exploration"
   ]
  },
  {
   "cell_type": "code",
   "execution_count": 30,
   "id": "3ee79103-e977-4ece-93e0-927809929c0c",
   "metadata": {},
   "outputs": [
    {
     "data": {
      "text/html": [
       "<div>\n",
       "<style scoped>\n",
       "    .dataframe tbody tr th:only-of-type {\n",
       "        vertical-align: middle;\n",
       "    }\n",
       "\n",
       "    .dataframe tbody tr th {\n",
       "        vertical-align: top;\n",
       "    }\n",
       "\n",
       "    .dataframe thead th {\n",
       "        text-align: right;\n",
       "    }\n",
       "</style>\n",
       "<table border=\"1\" class=\"dataframe\">\n",
       "  <thead>\n",
       "    <tr style=\"text-align: right;\">\n",
       "      <th></th>\n",
       "      <th>id</th>\n",
       "      <th>keyword</th>\n",
       "      <th>location</th>\n",
       "      <th>text</th>\n",
       "      <th>target</th>\n",
       "    </tr>\n",
       "  </thead>\n",
       "  <tbody>\n",
       "    <tr>\n",
       "      <th>0</th>\n",
       "      <td>1</td>\n",
       "      <td>NaN</td>\n",
       "      <td>NaN</td>\n",
       "      <td>Our Deeds are the Reason of this #earthquake M...</td>\n",
       "      <td>1</td>\n",
       "    </tr>\n",
       "    <tr>\n",
       "      <th>1</th>\n",
       "      <td>4</td>\n",
       "      <td>NaN</td>\n",
       "      <td>NaN</td>\n",
       "      <td>Forest fire near La Ronge Sask. Canada</td>\n",
       "      <td>1</td>\n",
       "    </tr>\n",
       "    <tr>\n",
       "      <th>2</th>\n",
       "      <td>5</td>\n",
       "      <td>NaN</td>\n",
       "      <td>NaN</td>\n",
       "      <td>All residents asked to 'shelter in place' are ...</td>\n",
       "      <td>1</td>\n",
       "    </tr>\n",
       "    <tr>\n",
       "      <th>3</th>\n",
       "      <td>6</td>\n",
       "      <td>NaN</td>\n",
       "      <td>NaN</td>\n",
       "      <td>13,000 people receive #wildfires evacuation or...</td>\n",
       "      <td>1</td>\n",
       "    </tr>\n",
       "    <tr>\n",
       "      <th>4</th>\n",
       "      <td>7</td>\n",
       "      <td>NaN</td>\n",
       "      <td>NaN</td>\n",
       "      <td>Just got sent this photo from Ruby #Alaska as ...</td>\n",
       "      <td>1</td>\n",
       "    </tr>\n",
       "  </tbody>\n",
       "</table>\n",
       "</div>"
      ],
      "text/plain": [
       "   id keyword location                                               text  \\\n",
       "0   1     NaN      NaN  Our Deeds are the Reason of this #earthquake M...   \n",
       "1   4     NaN      NaN             Forest fire near La Ronge Sask. Canada   \n",
       "2   5     NaN      NaN  All residents asked to 'shelter in place' are ...   \n",
       "3   6     NaN      NaN  13,000 people receive #wildfires evacuation or...   \n",
       "4   7     NaN      NaN  Just got sent this photo from Ruby #Alaska as ...   \n",
       "\n",
       "   target  \n",
       "0       1  \n",
       "1       1  \n",
       "2       1  \n",
       "3       1  \n",
       "4       1  "
      ]
     },
     "execution_count": 30,
     "metadata": {},
     "output_type": "execute_result"
    }
   ],
   "source": [
    "df=pd.read_csv(\"twitter_disaster.csv\")\n",
    "df.head()"
   ]
  },
  {
   "cell_type": "code",
   "execution_count": 32,
   "id": "b80cf4ac-4a16-4fe8-9e42-2ccbf355743c",
   "metadata": {},
   "outputs": [
    {
     "name": "stdout",
     "output_type": "stream",
     "text": [
      "Dataset Shape: (7613, 5)\n",
      "\n",
      "Columns and Data Types:\n",
      "id           int64\n",
      "keyword     object\n",
      "location    object\n",
      "text        object\n",
      "target       int64\n",
      "dtype: object\n"
     ]
    }
   ],
   "source": [
    "# Explore teh datasets structure\n",
    "print(\"Dataset Shape:\", df.shape)\n",
    "print(\"\\nColumns and Data Types:\")\n",
    "print(df.dtypes)"
   ]
  },
  {
   "cell_type": "markdown",
   "id": "a604308e-536e-4782-b287-f678c400b604",
   "metadata": {},
   "source": [
    "## Data Exploration and Preprocessing"
   ]
  },
  {
   "cell_type": "code",
   "execution_count": 34,
   "id": "6adcd4d2-5d24-4a96-bdae-3c427fa21950",
   "metadata": {},
   "outputs": [
    {
     "name": "stdout",
     "output_type": "stream",
     "text": [
      "\n",
      "Class Distribution:\n",
      "target\n",
      "0    4342\n",
      "1    3271\n",
      "Name: count, dtype: int64\n"
     ]
    }
   ],
   "source": [
    "# Visualize the distribution of classes\n",
    "class_distribution = df['target'].value_counts()\n",
    "print(\"\\nClass Distribution:\")\n",
    "print(class_distribution)"
   ]
  },
  {
   "cell_type": "code",
   "execution_count": 45,
   "id": "c1365996-48ac-4686-a9f1-736fa9530832",
   "metadata": {},
   "outputs": [
    {
     "data": {
      "image/png": "[encoded data removed]",
      "text/plain": [
       "<Figure size 1500x400 with 2 Axes>"
      ]
     },
     "metadata": {},
     "output_type": "display_data"
    }
   ],
   "source": [
    "fig, axes = plt.subplots(ncols=2, nrows=1, figsize=(15,4), dpi=100)\n",
    "sns.barplot(df['target'].value_counts(), ax=axes[0])\n",
    "axes[1].pie(df['target'].value_counts(),\n",
    "            labels=['Not Disaster', 'Disaster'],\n",
    "            autopct='%1.2f%%',\n",
    "            shadow=True,\n",
    "            explode=(0.05, 0),\n",
    "            startangle=60)\n",
    "fig.suptitle('Disaster vs Non disaster Tweets', fontsize=24)\n",
    "plt.show()"
   ]
  },
  {
   "cell_type": "code",
   "execution_count": 49,
   "id": "1d951b6e-0c16-46f7-bd32-8cf4757c6ed3",
   "metadata": {},
   "outputs": [],
   "source": [
    "# Analyze the frequency of keywords and phrases associated with disaster tweets\n",
    "disaster_tweets = df[df['target'] == 1]['text']\n",
    "non_disaster_tweets = df[df['target'] == 0]['text']"
   ]
  },
  {
   "cell_type": "code",
   "execution_count": 69,
   "id": "e425e21e-fe44-43e5-b72a-4fb21cabb88a",
   "metadata": {},
   "outputs": [],
   "source": [
    "# Function to get top N most common words\n",
    "def get_top_n_words(corpus, n=None):\n",
    "    vec = CountVectorizer().fit(corpus)\n",
    "    bag_of_words = vec.transform(corpus)\n",
    "    sum_words = bag_of_words.sum(axis=0)\n",
    "    # creating list of words and their frequencies\n",
    "    words_freq = [(word, sum_words[0, idx]) for word, idx in vec.vocabulary_.items()]\n",
    "    # sorting the word by frequencies\n",
    "    words_freq = sorted(words_freq, key=lambda x: x[1], reverse=True)\n",
    "    return words_freq[:n]"
   ]
  },
  {
   "cell_type": "code",
   "execution_count": 73,
   "id": "2b0d98d4-dc61-49a0-b6b5-e35d34e0f79e",
   "metadata": {},
   "outputs": [
    {
     "name": "stdout",
     "output_type": "stream",
     "text": [
      "\n",
      "Top 20 words in disaster tweets:\n",
      "co : 2528\n",
      "http : 2382\n",
      "the : 1364\n",
      "in : 1164\n",
      "of : 928\n",
      "to : 757\n",
      "and : 506\n",
      "on : 420\n",
      "for : 401\n",
      "is : 352\n",
      "at : 308\n",
      "by : 278\n",
      "from : 245\n",
      "it : 240\n",
      "that : 210\n",
      "with : 192\n",
      "this : 182\n",
      "fire : 182\n",
      "after : 181\n",
      "û_ : 172\n"
     ]
    }
   ],
   "source": [
    "# Get top 20 most common words in disaster tweets\n",
    "top_disaster_words = get_top_n_words(disaster_tweets, 20)\n",
    "print(\"\\nTop 20 words in disaster tweets:\")\n",
    "for word, freq in top_disaster_words:\n",
    "    print(word, \":\", freq)"
   ]
  },
  {
   "cell_type": "code",
   "execution_count": 75,
   "id": "d4d6b0f7-ffe6-4792-b9a3-8426844340c5",
   "metadata": {},
   "outputs": [
    {
     "name": "stdout",
     "output_type": "stream",
     "text": [
      "\n",
      "Top 20 words in non-disaster tweets:\n",
      "co : 2212\n",
      "http : 1927\n",
      "the : 1913\n",
      "to : 1192\n",
      "and : 920\n",
      "of : 902\n",
      "in : 822\n",
      "you : 757\n",
      "is : 598\n",
      "my : 546\n",
      "it : 539\n",
      "for : 493\n",
      "on : 440\n",
      "that : 413\n",
      "with : 380\n",
      "this : 298\n",
      "be : 287\n",
      "https : 277\n",
      "me : 263\n",
      "like : 254\n"
     ]
    }
   ],
   "source": [
    "# Get top 20 most common words in non-disaster tweets\n",
    "top_non_disaster_words = get_top_n_words(non_disaster_tweets, 20)\n",
    "print(\"\\nTop 20 words in non-disaster tweets:\")\n",
    "for word, freq in top_non_disaster_words:\n",
    "    print(word, \":\", freq)"
   ]
  },
  {
   "cell_type": "code",
   "execution_count": 79,
   "id": "eb7169bc-923a-4076-88a1-04b5e067a0ea",
   "metadata": {},
   "outputs": [],
   "source": [
    "# Function to clean text data\n",
    "def clean_text(text):\n",
    "    # Remove special characters, URLs, and punctuation marks\n",
    "    text = re.sub(r'http\\S+', '', text)  # Remove URLs\n",
    "    text = re.sub(r'[^a-zA-Z\\s]', '', text)  # Remove special characters and punctuation marks\n",
    "    # Convert text to lowercase\n",
    "    return text.lower()  "
   ]
  },
  {
   "cell_type": "code",
   "execution_count": 81,
   "id": "c721b169-6291-4967-a25c-d93c1a514651",
   "metadata": {},
   "outputs": [],
   "source": [
    "# Apply text cleaning to the 'text' column\n",
    "df['clean_text'] = df['text'].apply(clean_text)"
   ]
  },
  {
   "cell_type": "code",
   "execution_count": 83,
   "id": "aec738cd-33d2-4e92-b667-cffd8038392d",
   "metadata": {},
   "outputs": [
    {
     "name": "stderr",
     "output_type": "stream",
     "text": [
      "[nltk_data] Downloading package punkt to\n",
      "[nltk_data]     /Users/debasishguru/nltk_data...\n",
      "[nltk_data]   Unzipping tokenizers/punkt.zip.\n"
     ]
    },
    {
     "data": {
      "text/plain": [
       "True"
      ]
     },
     "execution_count": 83,
     "metadata": {},
     "output_type": "execute_result"
    }
   ],
   "source": [
    "nltk.download('punkt')"
   ]
  },
  {
   "cell_type": "code",
   "execution_count": 85,
   "id": "237bb6ce-9aab-4000-a5f4-243a7224b343",
   "metadata": {},
   "outputs": [],
   "source": [
    "# Tokenize the text into individual words or tokens\n",
    "df['tokens'] = df['clean_text'].apply(word_tokenize)"
   ]
  },
  {
   "cell_type": "code",
   "execution_count": 114,
   "id": "d75aa012-2ef0-429f-b204-a4eb3338d5a5",
   "metadata": {},
   "outputs": [
    {
     "name": "stderr",
     "output_type": "stream",
     "text": [
      "[nltk_data] Downloading package stopwords to\n",
      "[nltk_data]     /Users/debasishguru/nltk_data...\n",
      "[nltk_data]   Unzipping corpora/stopwords.zip.\n"
     ]
    },
    {
     "data": {
      "text/plain": [
       "True"
      ]
     },
     "execution_count": 114,
     "metadata": {},
     "output_type": "execute_result"
    }
   ],
   "source": [
    "import nltk\n",
    "nltk.download('stopwords')"
   ]
  },
  {
   "cell_type": "code",
   "execution_count": 116,
   "id": "eec1ec29-83ff-4b06-8ad6-7283ff67c627",
   "metadata": {},
   "outputs": [],
   "source": [
    "from nltk.corpus import stopwords\n",
    "\n",
    "# Create a set of stop words\n",
    "stop_words = set(stopwords.words('english'))\n",
    "\n",
    "# Remove stop words from the 'tokens' column in your DataFrame\n",
    "df['tokens'] = df['tokens'].apply(lambda x: [word for word in x if word not in stop_words])"
   ]
  },
  {
   "cell_type": "code",
   "execution_count": 118,
   "id": "f3ed1daa-0f65-47ac-b89b-ab2c0120a3f7",
   "metadata": {},
   "outputs": [
    {
     "name": "stderr",
     "output_type": "stream",
     "text": [
      "[nltk_data] Downloading package wordnet to\n",
      "[nltk_data]     /Users/debasishguru/nltk_data...\n",
      "[nltk_data]   Package wordnet is already up-to-date!\n"
     ]
    },
    {
     "data": {
      "text/plain": [
       "True"
      ]
     },
     "execution_count": 118,
     "metadata": {},
     "output_type": "execute_result"
    }
   ],
   "source": [
    "nltk.download('wordnet')"
   ]
  },
  {
   "cell_type": "code",
   "execution_count": 120,
   "id": "09421aba-6049-483b-bb39-035200c6ac65",
   "metadata": {},
   "outputs": [],
   "source": [
    "# Lemmatize tokens\n",
    "lemmatizer = WordNetLemmatizer()\n",
    "df['tokens'] = df['tokens'].apply(lambda x: [lemmatizer.lemmatize(word) for word in x])"
   ]
  },
  {
   "cell_type": "markdown",
   "id": "cd7f29db-0178-4d10-b812-9897c35e21ce",
   "metadata": {},
   "source": [
    "df['target']"
   ]
  },
  {
   "cell_type": "code",
   "execution_count": 123,
   "id": "e051f0ea-bc21-4412-a7fb-723e45d5ce09",
   "metadata": {},
   "outputs": [],
   "source": [
    "# Split the dataset into training and testing sets\n",
    "X_train, X_test, y_train, y_test = train_test_split(df['clean_text'], df['target'], test_size=0.2, random_state=42)"
   ]
  },
  {
   "cell_type": "code",
   "execution_count": 125,
   "id": "a9d54840-a2fe-4f1b-8062-0df969a45438",
   "metadata": {},
   "outputs": [
    {
     "name": "stdout",
     "output_type": "stream",
     "text": [
      "Preprocessed Data:\n",
      "                                          clean_text  \\\n",
      "0  our deeds are the reason of this earthquake ma...   \n",
      "1              forest fire near la ronge sask canada   \n",
      "2  all residents asked to shelter in place are be...   \n",
      "3   people receive wildfires evacuation orders in...   \n",
      "4  just got sent this photo from ruby alaska as s...   \n",
      "\n",
      "                                              tokens  target  \n",
      "0  [deed, reason, earthquake, may, allah, forgive...       1  \n",
      "1      [forest, fire, near, la, ronge, sask, canada]       1  \n",
      "2  [resident, asked, shelter, place, notified, of...       1  \n",
      "3  [people, receive, wildfire, evacuation, order,...       1  \n",
      "4  [got, sent, photo, ruby, alaska, smoke, wildfi...       1  \n"
     ]
    }
   ],
   "source": [
    "# Display the first few rows of the preprocessed data\n",
    "print(\"Preprocessed Data:\")\n",
    "print(df[['clean_text', 'tokens', 'target']].head())"
   ]
  },
  {
   "cell_type": "code",
   "execution_count": 127,
   "id": "9a51bf29-0564-442f-8278-31d5663fa9ef",
   "metadata": {},
   "outputs": [
    {
     "name": "stdout",
     "output_type": "stream",
     "text": [
      "\n",
      "Training set shape: (6090,) (6090,)\n",
      "Testing set shape: (1523,) (1523,)\n"
     ]
    }
   ],
   "source": [
    "# Display the shape of training and testing sets\n",
    "print(\"\\nTraining set shape:\", X_train.shape, y_train.shape)\n",
    "print(\"Testing set shape:\", X_test.shape, y_test.shape)"
   ]
  },
  {
   "cell_type": "markdown",
   "id": "f873560b-f477-4fa6-b3de-c7541007553f",
   "metadata": {},
   "source": [
    "## Feature Engineering "
   ]
  },
  {
   "cell_type": "code",
   "execution_count": 130,
   "id": "352c4fdb-b9a5-492e-9eb3-aa1cc02e3db0",
   "metadata": {},
   "outputs": [],
   "source": [
    "from sklearn.feature_extraction.text import TfidfVectorizer\n",
    "from nltk.tokenize import word_tokenize\n",
    "from nltk.corpus import stopwords\n",
    "from nltk.stem import WordNetLemmatizer"
   ]
  },
  {
   "cell_type": "code",
   "execution_count": 132,
   "id": "77c3065b-aca8-466b-9b2c-76b96c59da0a",
   "metadata": {},
   "outputs": [],
   "source": [
    "# Tokenization, removing stopwords, and lemmatization\n",
    "stop_words = set(stopwords.words('english'))\n",
    "lemmatizer = WordNetLemmatizer()"
   ]
  },
  {
   "cell_type": "code",
   "execution_count": 134,
   "id": "8c874151-ac0f-4f04-b44b-b36b54a5ecd4",
   "metadata": {},
   "outputs": [],
   "source": [
    "\n",
    "def preprocess_text(text):\n",
    "    tokens = word_tokenize(text)\n",
    "    tokens = [lemmatizer.lemmatize(word.lower()) for word in tokens if word.isalpha() and word.lower() not in stop_words]\n",
    "    return ' '.join(tokens)\n",
    "\n",
    "df['clean_text'] = df['text'].apply(preprocess_text)"
   ]
  },
  {
   "cell_type": "code",
   "execution_count": 136,
   "id": "bd22e188-f3cc-427a-ade6-0265db4082ac",
   "metadata": {},
   "outputs": [],
   "source": [
    "# Feature Engineering: TF-IDF Scores\n",
    "tfidf_vectorizer = TfidfVectorizer()\n",
    "tfidf_features = tfidf_vectorizer.fit_transform(df['clean_text'])"
   ]
  },
  {
   "cell_type": "code",
   "execution_count": 148,
   "id": "317a6a10-d6dd-4037-86cf-fd5f92a4f8ee",
   "metadata": {},
   "outputs": [
    {
     "data": {
      "text/plain": [
       "['models/tfidf_vectorizer.joblib']"
      ]
     },
     "execution_count": 148,
     "metadata": {},
     "output_type": "execute_result"
    }
   ],
   "source": [
    "import os\n",
    "import joblib\n",
    "\n",
    "# Define the directory path\n",
    "directory = 'models/'\n",
    "\n",
    "# Create the directory if it doesn't exist\n",
    "if not os.path.exists(directory):\n",
    "    os.makedirs(directory)\n",
    "\n",
    "# Save the TF-IDF vectorizer using joblib\n",
    "joblib.dump(tfidf_vectorizer, directory + 'tfidf_vectorizer.joblib')\n"
   ]
  },
  {
   "cell_type": "code",
   "execution_count": 150,
   "id": "868e2dd3-37eb-4ab6-ba89-1c2a95ee5ba0",
   "metadata": {},
   "outputs": [],
   "source": [
    "# Additional Features\n",
    "# Tweet Length\n",
    "df['tweet_length'] = df['clean_text'].apply(len)"
   ]
  },
  {
   "cell_type": "code",
   "execution_count": 152,
   "id": "18c1e963-96f2-4adc-8e1b-ca6e2218efdd",
   "metadata": {},
   "outputs": [],
   "source": [
    "# Presence of Hashtags\n",
    "df['hashtag_presence'] = df['clean_text'].apply(lambda x: 1 if '#' in x else 0)"
   ]
  },
  {
   "cell_type": "code",
   "execution_count": 154,
   "id": "0de3e3a3-9d18-48c7-948f-9874aa5ff622",
   "metadata": {},
   "outputs": [],
   "source": [
    "# Presence of User Mentions\n",
    "df['mention_presence'] = df['clean_text'].apply(lambda x: 1 if '@' in x else 0)"
   ]
  },
  {
   "cell_type": "code",
   "execution_count": 156,
   "id": "a8777519-b96e-4732-b81b-ccf31a7008da",
   "metadata": {},
   "outputs": [
    {
     "data": {
      "text/plain": [
       "0       1\n",
       "1       1\n",
       "2       1\n",
       "3       1\n",
       "4       1\n",
       "       ..\n",
       "7608    1\n",
       "7609    1\n",
       "7610    1\n",
       "7611    1\n",
       "7612    1\n",
       "Name: target, Length: 7613, dtype: int64"
      ]
     },
     "execution_count": 156,
     "metadata": {},
     "output_type": "execute_result"
    }
   ],
   "source": [
    "df['target']"
   ]
  },
  {
   "cell_type": "code",
   "execution_count": 158,
   "id": "74790ed0-7fe1-4603-b758-f5eeb5ae102e",
   "metadata": {},
   "outputs": [],
   "source": [
    "# Combine TF-IDF features with additional features\n",
    "tfidf_features = tfidf_features.toarray()\n",
    "additional_features = df[['tweet_length', 'hashtag_presence', 'mention_presence']].values\n",
    "X = np.hstack((tfidf_features, additional_features))\n",
    "y = df['target'].values"
   ]
  },
  {
   "cell_type": "code",
   "execution_count": 160,
   "id": "ec71f396-f05f-4cb2-8bfc-5c270a5d51bc",
   "metadata": {},
   "outputs": [
    {
     "data": {
      "text/plain": [
       "array([1, 1, 1, ..., 1, 1, 1])"
      ]
     },
     "execution_count": 160,
     "metadata": {},
     "output_type": "execute_result"
    }
   ],
   "source": [
    "y"
   ]
  },
  {
   "cell_type": "code",
   "execution_count": 162,
   "id": "2be3a653-76eb-4912-a0d7-e0d3928b0565",
   "metadata": {},
   "outputs": [
    {
     "data": {
      "text/plain": [
       "0"
      ]
     },
     "execution_count": 162,
     "metadata": {},
     "output_type": "execute_result"
    }
   ],
   "source": [
    "# Check for missing values in the target variable (y)\n",
    "missing_values = df['target'].isnull().sum()\n",
    "missing_values"
   ]
  },
  {
   "cell_type": "code",
   "execution_count": 164,
   "id": "bd57f9ae-b227-4880-9386-86f7717c833f",
   "metadata": {},
   "outputs": [],
   "source": [
    "# Split the dataset into training and testing sets\n",
    "from sklearn.model_selection import train_test_split\n",
    "X_train, X_test, y_train, y_test = train_test_split(X, y, test_size=0.2, random_state=42)"
   ]
  },
  {
   "cell_type": "code",
   "execution_count": 166,
   "id": "9c258074-0906-4fe8-8275-6470aa24990f",
   "metadata": {},
   "outputs": [
    {
     "name": "stdout",
     "output_type": "stream",
     "text": [
      "\n",
      "Training set shape: (6090, 13709) (6090,)\n",
      "Testing set shape: (1523, 13709) (1523,)\n"
     ]
    }
   ],
   "source": [
    "# Display the shape of training and testing sets\n",
    "print(\"\\nTraining set shape:\", X_train.shape, y_train.shape)\n",
    "print(\"Testing set shape:\", X_test.shape, y_test.shape)\n"
   ]
  },
  {
   "cell_type": "markdown",
   "id": "750abea0-19c7-4201-b288-01e6c65c6006",
   "metadata": {},
   "source": [
    "## Model evaluation and training "
   ]
  },
  {
   "cell_type": "code",
   "execution_count": 175,
   "id": "b7d05732-4d83-4487-b7ba-d2aaef1393b3",
   "metadata": {},
   "outputs": [],
   "source": [
    "from sklearn.model_selection import train_test_split, cross_val_score, GridSearchCV\n",
    "from sklearn.linear_model import LogisticRegression\n",
    "from sklearn.ensemble import RandomForestClassifier\n",
    "from sklearn.neural_network import MLPClassifier\n",
    "from sklearn.impute import SimpleImputer\n",
    "from sklearn.metrics import accuracy_score, precision_score, recall_score, f1_score\n",
    "import joblib"
   ]
  },
  {
   "cell_type": "code",
   "execution_count": 171,
   "id": "b1a3ae16-652e-4ea9-8bf6-1b6d9f0a9185",
   "metadata": {},
   "outputs": [],
   "source": [
    "# Candidate classification models\n",
    "models = {\n",
    "    \"Logistic Regression\": LogisticRegression(),\n",
    "    \"Random Forest\": RandomForestClassifier(),\n",
    "    \"Neural Network\": MLPClassifier()\n",
    "}"
   ]
  },
  {
   "cell_type": "code",
   "execution_count": 177,
   "id": "2a4f8086-e077-4985-b8a3-3e75a11adc5e",
   "metadata": {},
   "outputs": [],
   "source": [
    "# Handle missing values in features (X)\n",
    "imputer = SimpleImputer(strategy='mean')  # You can change the strategy as needed\n",
    "X_train_imputed = imputer.fit_transform(X_train)\n",
    "X_test_imputed = imputer.transform(X_test)"
   ]
  },
  {
   "cell_type": "code",
   "execution_count": 179,
   "id": "cd29af15-6be3-4a4b-9184-ada562f7e42b",
   "metadata": {},
   "outputs": [
    {
     "name": "stdout",
     "output_type": "stream",
     "text": [
      "Training Logistic Regression\n"
     ]
    },
    {
     "name": "stderr",
     "output_type": "stream",
     "text": [
      "/opt/anaconda3/lib/python3.12/site-packages/sklearn/linear_model/_logistic.py:469: ConvergenceWarning: lbfgs failed to converge (status=1):\n",
      "STOP: TOTAL NO. of ITERATIONS REACHED LIMIT.\n",
      "\n",
      "Increase the number of iterations (max_iter) or scale the data as shown in:\n",
      "    https://scikit-learn.org/stable/modules/preprocessing.html\n",
      "Please also refer to the documentation for alternative solver options:\n",
      "    https://scikit-learn.org/stable/modules/linear_model.html#logistic-regression\n",
      "  n_iter_i = _check_optimize_result(\n"
     ]
    },
    {
     "name": "stdout",
     "output_type": "stream",
     "text": [
      "Evaluation Metrics for Logistic Regression\n",
      "Accuracy: 0.8122127380170716\n",
      "Precision: 0.8457142857142858\n",
      "Recall: 0.6841294298921418\n",
      "F1 Score: 0.7563884156729132\n",
      "\n",
      "Training Random Forest\n",
      "Evaluation Metrics for Random Forest\n",
      "Accuracy: 0.7872619829284307\n",
      "Precision: 0.8406708595387841\n",
      "Recall: 0.6178736517719569\n",
      "F1 Score: 0.7122557726465364\n",
      "\n",
      "Training Neural Network\n",
      "Evaluation Metrics for Neural Network\n",
      "Accuracy: 0.7439264609323704\n",
      "Precision: 0.6947368421052632\n",
      "Recall: 0.711864406779661\n",
      "F1 Score: 0.7031963470319634\n",
      "\n"
     ]
    }
   ],
   "source": [
    "# Train and evaluate each model\n",
    "for model_name, model in models.items():\n",
    "    print(\"Training\", model_name)\n",
    "    # Train the model\n",
    "    model.fit(X_train, y_train)\n",
    "    \n",
    "    # Evaluate the model\n",
    "    y_pred = model.predict(X_test)\n",
    "    accuracy = accuracy_score(y_test, y_pred)\n",
    "    precision = precision_score(y_test, y_pred)\n",
    "    recall = recall_score(y_test, y_pred)\n",
    "    f1 = f1_score(y_test, y_pred)\n",
    "    \n",
    "    print(\"Evaluation Metrics for\", model_name)\n",
    "    print(\"Accuracy:\", accuracy)\n",
    "    print(\"Precision:\", precision)\n",
    "    print(\"Recall:\", recall)\n",
    "    print(\"F1 Score:\", f1)\n",
    "    print()\n",
    "    \n",
    "    # Save the trained model\n",
    "    joblib.dump(model, f\"models/{model_name}.joblib\")"
   ]
  },
  {
   "cell_type": "code",
   "execution_count": 181,
   "id": "9cf7b170-5c0b-4fc9-9324-a29b175e3077",
   "metadata": {},
   "outputs": [],
   "source": [
    "# Hyperparameter optimization using GridSearchCV\n",
    "param_grid = {\n",
    "    \"C\": [0.1, 1, 10],\n",
    "    \"penalty\": [\"l1\", \"l2\"]\n",
    "}"
   ]
  },
  {
   "cell_type": "code",
   "execution_count": 183,
   "id": "f4d6db8c-7097-4287-a875-c80df3c0f4ec",
   "metadata": {},
   "outputs": [
    {
     "name": "stderr",
     "output_type": "stream",
     "text": [
      "/opt/anaconda3/lib/python3.12/site-packages/sklearn/linear_model/_logistic.py:469: ConvergenceWarning: lbfgs failed to converge (status=1):\n",
      "STOP: TOTAL NO. of ITERATIONS REACHED LIMIT.\n",
      "\n",
      "Increase the number of iterations (max_iter) or scale the data as shown in:\n",
      "    https://scikit-learn.org/stable/modules/preprocessing.html\n",
      "Please also refer to the documentation for alternative solver options:\n",
      "    https://scikit-learn.org/stable/modules/linear_model.html#logistic-regression\n",
      "  n_iter_i = _check_optimize_result(\n",
      "/opt/anaconda3/lib/python3.12/site-packages/sklearn/linear_model/_logistic.py:469: ConvergenceWarning: lbfgs failed to converge (status=1):\n",
      "STOP: TOTAL NO. of ITERATIONS REACHED LIMIT.\n",
      "\n",
      "Increase the number of iterations (max_iter) or scale the data as shown in:\n",
      "    https://scikit-learn.org/stable/modules/preprocessing.html\n",
      "Please also refer to the documentation for alternative solver options:\n",
      "    https://scikit-learn.org/stable/modules/linear_model.html#logistic-regression\n",
      "  n_iter_i = _check_optimize_result(\n",
      "/opt/anaconda3/lib/python3.12/site-packages/sklearn/linear_model/_logistic.py:469: ConvergenceWarning: lbfgs failed to converge (status=1):\n",
      "STOP: TOTAL NO. of ITERATIONS REACHED LIMIT.\n",
      "\n",
      "Increase the number of iterations (max_iter) or scale the data as shown in:\n",
      "    https://scikit-learn.org/stable/modules/preprocessing.html\n",
      "Please also refer to the documentation for alternative solver options:\n",
      "    https://scikit-learn.org/stable/modules/linear_model.html#logistic-regression\n",
      "  n_iter_i = _check_optimize_result(\n",
      "/opt/anaconda3/lib/python3.12/site-packages/sklearn/linear_model/_logistic.py:469: ConvergenceWarning: lbfgs failed to converge (status=1):\n",
      "STOP: TOTAL NO. of ITERATIONS REACHED LIMIT.\n",
      "\n",
      "Increase the number of iterations (max_iter) or scale the data as shown in:\n",
      "    https://scikit-learn.org/stable/modules/preprocessing.html\n",
      "Please also refer to the documentation for alternative solver options:\n",
      "    https://scikit-learn.org/stable/modules/linear_model.html#logistic-regression\n",
      "  n_iter_i = _check_optimize_result(\n",
      "/opt/anaconda3/lib/python3.12/site-packages/sklearn/linear_model/_logistic.py:469: ConvergenceWarning: lbfgs failed to converge (status=1):\n",
      "STOP: TOTAL NO. of ITERATIONS REACHED LIMIT.\n",
      "\n",
      "Increase the number of iterations (max_iter) or scale the data as shown in:\n",
      "    https://scikit-learn.org/stable/modules/preprocessing.html\n",
      "Please also refer to the documentation for alternative solver options:\n",
      "    https://scikit-learn.org/stable/modules/linear_model.html#logistic-regression\n",
      "  n_iter_i = _check_optimize_result(\n",
      "/opt/anaconda3/lib/python3.12/site-packages/sklearn/linear_model/_logistic.py:469: ConvergenceWarning: lbfgs failed to converge (status=1):\n",
      "STOP: TOTAL NO. of ITERATIONS REACHED LIMIT.\n",
      "\n",
      "Increase the number of iterations (max_iter) or scale the data as shown in:\n",
      "    https://scikit-learn.org/stable/modules/preprocessing.html\n",
      "Please also refer to the documentation for alternative solver options:\n",
      "    https://scikit-learn.org/stable/modules/linear_model.html#logistic-regression\n",
      "  n_iter_i = _check_optimize_result(\n",
      "/opt/anaconda3/lib/python3.12/site-packages/sklearn/linear_model/_logistic.py:469: ConvergenceWarning: lbfgs failed to converge (status=1):\n",
      "STOP: TOTAL NO. of ITERATIONS REACHED LIMIT.\n",
      "\n",
      "Increase the number of iterations (max_iter) or scale the data as shown in:\n",
      "    https://scikit-learn.org/stable/modules/preprocessing.html\n",
      "Please also refer to the documentation for alternative solver options:\n",
      "    https://scikit-learn.org/stable/modules/linear_model.html#logistic-regression\n",
      "  n_iter_i = _check_optimize_result(\n",
      "/opt/anaconda3/lib/python3.12/site-packages/sklearn/linear_model/_logistic.py:469: ConvergenceWarning: lbfgs failed to converge (status=1):\n",
      "STOP: TOTAL NO. of ITERATIONS REACHED LIMIT.\n",
      "\n",
      "Increase the number of iterations (max_iter) or scale the data as shown in:\n",
      "    https://scikit-learn.org/stable/modules/preprocessing.html\n",
      "Please also refer to the documentation for alternative solver options:\n",
      "    https://scikit-learn.org/stable/modules/linear_model.html#logistic-regression\n",
      "  n_iter_i = _check_optimize_result(\n",
      "/opt/anaconda3/lib/python3.12/site-packages/sklearn/model_selection/_validation.py:547: FitFailedWarning: \n",
      "15 fits failed out of a total of 30.\n",
      "The score on these train-test partitions for these parameters will be set to nan.\n",
      "If these failures are not expected, you can try to debug them by setting error_score='raise'.\n",
      "\n",
      "Below are more details about the failures:\n",
      "--------------------------------------------------------------------------------\n",
      "15 fits failed with the following error:\n",
      "Traceback (most recent call last):\n",
      "  File \"/opt/anaconda3/lib/python3.12/site-packages/sklearn/model_selection/_validation.py\", line 895, in _fit_and_score\n",
      "    estimator.fit(X_train, y_train, **fit_params)\n",
      "  File \"/opt/anaconda3/lib/python3.12/site-packages/sklearn/base.py\", line 1474, in wrapper\n",
      "    return fit_method(estimator, *args, **kwargs)\n",
      "           ^^^^^^^^^^^^^^^^^^^^^^^^^^^^^^^^^^^^^^\n",
      "  File \"/opt/anaconda3/lib/python3.12/site-packages/sklearn/linear_model/_logistic.py\", line 1172, in fit\n",
      "    solver = _check_solver(self.solver, self.penalty, self.dual)\n",
      "             ^^^^^^^^^^^^^^^^^^^^^^^^^^^^^^^^^^^^^^^^^^^^^^^^^^^\n",
      "  File \"/opt/anaconda3/lib/python3.12/site-packages/sklearn/linear_model/_logistic.py\", line 67, in _check_solver\n",
      "    raise ValueError(\n",
      "ValueError: Solver lbfgs supports only 'l2' or None penalties, got l1 penalty.\n",
      "\n",
      "  warnings.warn(some_fits_failed_message, FitFailedWarning)\n",
      "/opt/anaconda3/lib/python3.12/site-packages/sklearn/model_selection/_search.py:1051: UserWarning: One or more of the test scores are non-finite: [       nan 0.70771757        nan 0.79228243        nan 0.79064039]\n",
      "  warnings.warn(\n"
     ]
    },
    {
     "name": "stdout",
     "output_type": "stream",
     "text": [
      "Best Parameters for Logistic Regression: {'C': 1, 'penalty': 'l2'}\n"
     ]
    },
    {
     "name": "stderr",
     "output_type": "stream",
     "text": [
      "/opt/anaconda3/lib/python3.12/site-packages/sklearn/linear_model/_logistic.py:469: ConvergenceWarning: lbfgs failed to converge (status=1):\n",
      "STOP: TOTAL NO. of ITERATIONS REACHED LIMIT.\n",
      "\n",
      "Increase the number of iterations (max_iter) or scale the data as shown in:\n",
      "    https://scikit-learn.org/stable/modules/preprocessing.html\n",
      "Please also refer to the documentation for alternative solver options:\n",
      "    https://scikit-learn.org/stable/modules/linear_model.html#logistic-regression\n",
      "  n_iter_i = _check_optimize_result(\n"
     ]
    }
   ],
   "source": [
    "logistic_regression = LogisticRegression()\n",
    "grid_search = GridSearchCV(logistic_regression, param_grid, cv=5)\n",
    "grid_search.fit(X_train, y_train)\n",
    "\n",
    "print(\"Best Parameters for Logistic Regression:\", grid_search.best_params_)"
   ]
  },
  {
   "cell_type": "code",
   "execution_count": null,
   "id": "4a1fd3b6-53b2-4e15-86bf-10035d426b56",
   "metadata": {},
   "outputs": [],
   "source": []
  }
 ],
 "metadata": {
  "kernelspec": {
   "display_name": "Python 3",
   "language": "python",
   "name": "python3"
  },
  "language_info": {
   "codemirror_mode": {
    "name": "ipython",
    "version": 3
   },
   "file_extension": ".py",
   "mimetype": "text/x-python",
   "name": "python",
   "nbconvert_exporter": "python",
   "pygments_lexer": "ipython3",
   "version": "3.13.0"
  }
 },
 "nbformat": 4,
 "nbformat_minor": 5
}
